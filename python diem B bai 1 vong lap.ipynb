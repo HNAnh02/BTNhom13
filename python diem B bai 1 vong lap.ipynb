{
 "cells": [
  {
   "cell_type": "code",
   "execution_count": 1,
   "metadata": {},
   "outputs": [
    {
     "ename": "",
     "evalue": "",
     "output_type": "error",
     "traceback": [
      "\u001b[1;31mThe Kernel crashed while executing code in the current cell or a previous cell. \n",
      "\u001b[1;31mPlease review the code in the cell(s) to identify a possible cause of the failure. \n",
      "\u001b[1;31mClick <a href='https://aka.ms/vscodeJupyterKernelCrash'>here</a> for more info. \n",
      "\u001b[1;31mView Jupyter <a href='command:jupyter.viewOutput'>log</a> for further details."
     ]
    }
   ],
   "source": [
    "import turtle\n",
    "tommy = turtle.Turtle()\n",
    "#\n",
    "tommy.penup()\n",
    "tommy.goto(-200,0)\n",
    "tommy.pendown()\n",
    "#\n",
    "for i in range(12):\n",
    "    tommy.forward(100)\n",
    "    tommy.right(45)\n",
    "    tommy.forward(20)\n",
    "    tommy.circle(10, 360)\n",
    "    tommy.circle(0, 180)\n",
    "    tommy.forward(20)\n",
    "    tommy.left(45)\n",
    "    tommy.forward(100)\n",
    "    tommy.right(150)\n",
    "#\n",
    "tommy.penup()\n",
    "tommy.goto(200,0)\n",
    "tommy.pendown()\n",
    "#\n",
    "for i in range(12):\n",
    "    tommy.forward(100)\n",
    "    tommy.right(45)\n",
    "    tommy.forward(20)\n",
    "    tommy.circle(10, 360)\n",
    "    tommy.circle(0, 180)\n",
    "    tommy.forward(20)\n",
    "    tommy.left(45)\n",
    "    tommy.forward(100)\n",
    "    tommy.right(150)"
   ]
  }
 ],
 "metadata": {
  "kernelspec": {
   "display_name": "base",
   "language": "python",
   "name": "python3"
  },
  "language_info": {
   "codemirror_mode": {
    "name": "ipython",
    "version": 3
   },
   "file_extension": ".py",
   "mimetype": "text/x-python",
   "name": "python",
   "nbconvert_exporter": "python",
   "pygments_lexer": "ipython3",
   "version": "3.11.4"
  }
 },
 "nbformat": 4,
 "nbformat_minor": 2
}
